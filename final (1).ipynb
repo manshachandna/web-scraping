{
 "cells": [
  {
   "cell_type": "code",
   "execution_count": 3,
   "metadata": {},
   "outputs": [],
   "source": [
    "from tkinter import *\n",
    "import requests\n",
    "from bs4 import BeautifulSoup\n",
    "\n",
    "c=Tk()\n",
    "c.geometry('600x250')\n",
    "c.title(\"WEB SCRAPING\")\n",
    "l1=Label(text='enter the name of the website',bg='lightgrey')\n",
    "l1.grid(row=1)\n",
    "url=Entry(width=40)\n",
    "url.grid(row=1, column=1)\n",
    "\n",
    "l2=Label(text='enter the word you want to search',bg='lightgrey')\n",
    "l2.grid(row=2)\n",
    "the_word=Entry(width=40)\n",
    "the_word.grid(row=2, column=1)\n",
    "\n",
    "l11=Label(text=\"IF WEBSITE EXISTS:\")\n",
    "l11.grid(row=7)\n",
    "l22=Label(text=\"OCCURENCES OF THE WORD:\")\n",
    "l22.grid(row=7,column=1)\n",
    "try:\n",
    "    def c1(url):\n",
    "        print('aaa')\n",
    "        r = requests.get(url)\n",
    "        if r.status_code < 400:\n",
    "            print('Web site exists')\n",
    "            l4=Label(width=40, text='Web site exists',bg='light green')\n",
    "            l4.grid(row=7)\n",
    "        else:\n",
    "            l4=Label(width=40, text='Web site does not exist',bg='red',fg='white')\n",
    "            l4.grid(row=6)\n",
    "            print('Web site does not exist') \n",
    "        soup = BeautifulSoup(r.content, 'lxml')\n",
    "        words = soup.find(text=lambda text: text and the_word.get() in text)\n",
    "        #print(words)\n",
    "        print('bbb')\n",
    "        \n",
    "        if words==None:\n",
    "            l3=Label(width=30,text=\"Sorry,\\n but no such words in this website!\",bg='pink')\n",
    "            l3.grid(row=6, column=1)\n",
    "            print('no words')\n",
    "        else:\n",
    "            count = len(words)\n",
    "            print('\\nUrl: {}\\ncontains {} occurrences of word: {}'.format(url, count, the_word.get()))\n",
    "            l3=Label(width=40,text='Url: {}\\n\\ncontains {} occurrences of word: {}'.format(url, count, the_word.get()),bg='pink')\n",
    "            l3.grid(row=7, column=1)\n",
    "        \n",
    "except:\n",
    "    l3=Label(width=30,text=\"Sorry,\\n\\n but didn't find anything like this!\",bg='pink')\n",
    "    l3.grid(row=7, column=1)\n",
    "    print('no words')\n",
    "\n",
    "b1=Button(text=\"calculate number of words\", command=lambda: c1(url.get()),bg='lightblue')\n",
    "b1.grid(row=4)\n",
    "\n",
    "c.mainloop()\n"
   ]
  },
  {
   "cell_type": "code",
   "execution_count": null,
   "metadata": {},
   "outputs": [],
   "source": []
  }
 ],
 "metadata": {
  "kernelspec": {
   "display_name": "Python 3",
   "language": "python",
   "name": "python3"
  },
  "language_info": {
   "codemirror_mode": {
    "name": "ipython",
    "version": 3
   },
   "file_extension": ".py",
   "mimetype": "text/x-python",
   "name": "python",
   "nbconvert_exporter": "python",
   "pygments_lexer": "ipython3",
   "version": "3.6.5"
  }
 },
 "nbformat": 4,
 "nbformat_minor": 2
}
